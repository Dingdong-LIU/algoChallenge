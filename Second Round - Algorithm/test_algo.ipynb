{
 "cells": [
  {
   "cell_type": "code",
   "execution_count": 3,
   "metadata": {},
   "outputs": [],
   "source": [
    "import numpy as np\n",
    "import tensorflow as tf\n",
    "from tensorflow import keras\n",
    "from tensorflow.keras import layers\n",
    "import pandas as pd\n",
    "\n",
    "physical_devices = tf.config.list_physical_devices('GPU')\n",
    "tf.config.experimental.set_memory_growth(physical_devices[0], enable=True)"
   ]
  },
  {
   "cell_type": "code",
   "execution_count": 23,
   "metadata": {},
   "outputs": [
    {
     "name": "stdout",
     "output_type": "stream",
     "text": [
      "3275\n",
      "<class 'list'>\n",
      "           Date    EURUSD     FRXEUR    NSXUSD      HKXHKD      GRXEUR\n",
      "0     14/1/2008   2478.30  5403.5098   2478.30  26468.1309   7732.0200\n",
      "1     15/1/2008   2417.59  5250.8198   2417.59  25837.7793   7566.3799\n",
      "2     16/1/2008   2394.59  5225.3901   2394.59  24450.8496   7471.5698\n",
      "3     17/1/2008   2346.90  5157.0898   2346.90  25114.9805   7413.5298\n",
      "4     18/1/2008   2340.02  5092.3999   2340.02  25201.8691   7314.1699\n",
      "...         ...       ...        ...       ...         ...         ...\n",
      "3270   5/1/2021  12818.96  5564.6000  12818.96  27649.8600  13651.2200\n",
      "3271   6/1/2021  12740.79  5630.6000  12740.79  27692.3000  13891.9700\n",
      "3272   7/1/2021  13067.48  5669.8500  13067.48  27548.5200  13968.2400\n",
      "3273   8/1/2021  13201.98  5706.8800  13201.98  27878.2200  14049.5300\n",
      "3274  11/1/2021  13036.43        NaN  13036.43         NaN         NaN\n",
      "\n",
      "[3275 rows x 6 columns]\n"
     ]
    }
   ],
   "source": [
    "df = pd.read_csv('./dataset/EURUSD.csv')\n",
    "print(len(df))\n",
    "print(type(list(df['Date'])))\n",
    "print(df)"
   ]
  },
  {
   "cell_type": "code",
   "execution_count": 34,
   "metadata": {},
   "outputs": [
    {
     "name": "stdout",
     "output_type": "stream",
     "text": [
      "True\n",
      "False\n",
      "<class 'numpy.float64'>\n"
     ]
    }
   ],
   "source": [
    "nan = df['FRXEUR'][3274]\n",
    "print(np.isnan(nan))\n",
    "print(np.isnan(3))\n",
    "print(type(nan))"
   ]
  },
  {
   "cell_type": "code",
   "execution_count": 48,
   "metadata": {},
   "outputs": [],
   "source": [
    "X_train = []\n",
    "y_train = []\n",
    "flag = False\n",
    "for i in range(len(df)):\n",
    "    for name in ['EURUSD', 'FRXEUR', 'NSXUSD', 'HKXHKD', 'GRXEUR']:\n",
    "        if np.isnan(df[name][i]):\n",
    "#             print(\"found nan in line\", i)\n",
    "            flag = True\n",
    "            break\n",
    "    if flag:\n",
    "#         print(\"found nan in line\", i)\n",
    "        flag = False\n",
    "        continue\n",
    "    x = np.zeros(4)\n",
    "    x[0] = df['FRXEUR'][i]\n",
    "    x[1] = df['NSXUSD'][i]\n",
    "    x[2] = df['HKXHKD'][i]\n",
    "    x[3] = df['GRXEUR'][i]\n",
    "    \n",
    "    y = np.array(df['EURUSD'][i])\n",
    "    X_train.append(x)\n",
    "    y_train.append(y)"
   ]
  },
  {
   "cell_type": "code",
   "execution_count": 49,
   "metadata": {},
   "outputs": [
    {
     "name": "stdout",
     "output_type": "stream",
     "text": [
      "3123\n",
      "3123\n"
     ]
    }
   ],
   "source": [
    "print(len(X_train))\n",
    "print(len(y_train))"
   ]
  },
  {
   "cell_type": "code",
   "execution_count": 50,
   "metadata": {},
   "outputs": [],
   "source": [
    "x1, x2, x3 = X_train[1], X_train[2], X_train[3]\n",
    "x = np.concat"
   ]
  },
  {
   "cell_type": "code",
   "execution_count": null,
   "metadata": {},
   "outputs": [],
   "source": [
    "arr_X = []\n",
    "arr_Y = y_train\n",
    "for i in range(len(X_train)):\n",
    "    if i == 0:\n",
    "        arr_X.append(np.array)\n",
    "    else if i == 1:\n",
    "        pass\n",
    "    else if i == 2:\n",
    "        pass\n",
    "    else\n",
    "        pass\n",
    "    \n",
    "        "
   ]
  },
  {
   "cell_type": "code",
   "execution_count": null,
   "metadata": {},
   "outputs": [],
   "source": [
    "batch_size = 64\n",
    "\n"
   ]
  }
 ],
 "metadata": {
  "kernelspec": {
   "display_name": "tf-gpu",
   "language": "python",
   "name": "tf-gpu"
  },
  "language_info": {
   "codemirror_mode": {
    "name": "ipython",
    "version": 3
   },
   "file_extension": ".py",
   "mimetype": "text/x-python",
   "name": "python",
   "nbconvert_exporter": "python",
   "pygments_lexer": "ipython3",
   "version": "3.8.5"
  }
 },
 "nbformat": 4,
 "nbformat_minor": 4
}
